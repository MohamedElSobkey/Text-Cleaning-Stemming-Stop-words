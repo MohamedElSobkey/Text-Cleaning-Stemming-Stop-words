{
  "nbformat": 4,
  "nbformat_minor": 0,
  "metadata": {
    "colab": {
      "private_outputs": true,
      "provenance": [],
      "authorship_tag": "ABX9TyMqSjoiUIrtY6fn+FooDkf9",
      "include_colab_link": true
    },
    "kernelspec": {
      "name": "python3",
      "display_name": "Python 3"
    },
    "language_info": {
      "name": "python"
    }
  },
  "cells": [
    {
      "cell_type": "markdown",
      "metadata": {
        "id": "view-in-github",
        "colab_type": "text"
      },
      "source": [
        "<a href=\"https://colab.research.google.com/github/MohamedElSobkey/Text-Cleaning-Stemming-Stop-words/blob/main/RE_Lib_for_Text_Cleaning.ipynb\" target=\"_parent\"><img src=\"https://colab.research.google.com/assets/colab-badge.svg\" alt=\"Open In Colab\"/></a>"
      ]
    },
    {
      "cell_type": "markdown",
      "source": [
        "RE Lib for  Text Cleaning"
      ],
      "metadata": {
        "id": "DPfrT9HadZnk"
      }
    },
    {
      "cell_type": "code",
      "source": [
        "import re\n",
        "# re.sub(pattern, replacement_text, text)\n",
        "url_text = \"This is one type of url: https://www.wikipedia.com and the other url is http://www.wikipedia.com\"\n",
        "print(re.sub(\"(http\\S+)\", \"HIDDEN LINK\", url_text))"
      ],
      "metadata": {
        "id": "Pby8i0WIXrH5"
      },
      "execution_count": null,
      "outputs": []
    },
    {
      "cell_type": "code",
      "source": [
        "email_text = \"Please contact us at priyanka-madiraju7445@company.com or priyanka.madiraju@company.com or on the phone number\"\n",
        "print(re.sub(\"([\\w\\.\\-\\_]+@[\\w\\.\\-\\_]+)\", \"\", email_text))"
      ],
      "metadata": {
        "id": "zZSuT22-dn8Y"
      },
      "execution_count": null,
      "outputs": []
    },
    {
      "cell_type": "code",
      "source": [
        "numbers_text = \"Phone Numbers are 33635353 and 9383777\"\n",
        "print(re.sub(\"(\\d+)\", \"\", numbers_text))"
      ],
      "metadata": {
        "id": "ulQnuwbOdtYa"
      },
      "execution_count": null,
      "outputs": []
    },
    {
      "cell_type": "code",
      "source": [
        "newline_text = \"And I in going, madam, weep o'er my father's death\\n\\n anew: but I must attend his majesty's command, to \\n whom I am now in ward, evermore in subjection.\"\n",
        "print(re.sub(\"(\\n+)\", \"\", newline_text))"
      ],
      "metadata": {
        "id": "dJwGQ6BfduF1"
      },
      "execution_count": null,
      "outputs": []
    },
    {
      "cell_type": "code",
      "source": [
        "url_text_output = \"This is one type of url:  and      the other url is \"\n",
        "print(re.sub(\"(\\s){2,}\", \" \", url_text_output))"
      ],
      "metadata": {
        "id": "urC4SmQHdzD3"
      },
      "execution_count": null,
      "outputs": []
    },
    {
      "cell_type": "code",
      "source": [
        "url_text_output = \"This is one type of url: And the other url is 341531351 زسيرةسير\"\n",
        "# print(re.sub(\"([^a-zA-Z\\s])\", \"\", url_text_output))\n",
        "print(re.sub(\"([^a-z\\s])\", \"\", url_text_output))"
      ],
      "metadata": {
        "id": "KW0jBV7lduOt"
      },
      "execution_count": null,
      "outputs": []
    },
    {
      "cell_type": "code",
      "source": [
        "T = 'skldf;vsdvjk63541564654ln  محمد ذهب الي الجامعة'\n",
        "print(re.sub(\"([^ضصثقفغعهخحجدشسيبلاتنمكطئءؤرلاىةوزظذ\\s])\", \"\", T))\n"
      ],
      "metadata": {
        "id": "ObyBQjmxd5E6"
      },
      "execution_count": null,
      "outputs": []
    },
    {
      "cell_type": "code",
      "source": [
        "T = \"   There are some trailing and leading spaces here and there   \"\n",
        "\n",
        "T.replace(' ','')"
      ],
      "metadata": {
        "id": "Pvq9FlDyd9ny"
      },
      "execution_count": null,
      "outputs": []
    },
    {
      "cell_type": "code",
      "source": [
        "trailing_leading_text = \"   There are some trailing and leading spaces here and there   \"\n",
        "# print(trailing_leading_text.strip())\n",
        "# print(trailing_leading_text.lstrip())\n",
        "print(trailing_leading_text.rstrip())"
      ],
      "metadata": {
        "id": "dSNhJoWqeAcO"
      },
      "execution_count": null,
      "outputs": []
    },
    {
      "cell_type": "code",
      "source": [
        "example_text = \"This word or substring can be removed\"\n",
        "print(example_text.replace(\"word\", \"\"))"
      ],
      "metadata": {
        "id": "FyO66x0ReGKa"
      },
      "execution_count": null,
      "outputs": []
    },
    {
      "cell_type": "code",
      "source": [
        "example_text = \"This word or substring can be removed but not words\"\n",
        "print(example_text.replace(\"word\", \"\"))"
      ],
      "metadata": {
        "id": "YUF8TjlPeIY9"
      },
      "execution_count": null,
      "outputs": []
    },
    {
      "cell_type": "code",
      "source": [
        "print(re.sub(r\"(\\bword\\b)\", \"\", example_text))"
      ],
      "metadata": {
        "id": "WrL-o-AueLAb"
      },
      "execution_count": null,
      "outputs": []
    },
    {
      "cell_type": "code",
      "source": [
        "T = 'I love hearing music and classic bands'\n",
        "\n",
        "T.replace('and','')"
      ],
      "metadata": {
        "id": "OPQpkauEeOJx"
      },
      "execution_count": null,
      "outputs": []
    },
    {
      "cell_type": "code",
      "source": [
        "print(re.sub(r\"(\\band\\b)\", \"\", T))"
      ],
      "metadata": {
        "id": "D9wyMVpKeQZ0"
      },
      "execution_count": null,
      "outputs": []
    },
    {
      "cell_type": "code",
      "source": [
        "' '.join([i for i in T.split() if  i!='and'])"
      ],
      "metadata": {
        "id": "z9MR5MtAeVv8"
      },
      "execution_count": null,
      "outputs": []
    },
    {
      "cell_type": "code",
      "source": [
        "# Removing HTML tags:\n",
        "import re\n",
        "text = \"<p>This is a paragraph with HTML tags.</p>\"\n",
        "clean_text = re.sub(r\"<.*?>\", \"\", text)\n",
        "print(clean_text)"
      ],
      "metadata": {
        "id": "yF8d1cTJeWwE"
      },
      "execution_count": null,
      "outputs": []
    },
    {
      "cell_type": "code",
      "source": [
        "# This code will remove all HTML tags from the text and print the following output:\n",
        "\n",
        "# This is a paragraph with HTML tags.\n",
        "# Removing punctuation:\n",
        "\n",
        "import re\n",
        "text = \"This is a sentence with punctuation!???()+-*\t\t\t\t\t\t⛩️\t⛪️\t\t\t\t\tU+26Fx\t⛰️\t⛱️\t⛲️\t⛳️\t⛴️\t\"\n",
        "clean_text = re.sub(r\"[^\\w\\s]\", \"\", text)\n",
        "print(clean_text)"
      ],
      "metadata": {
        "id": "-MPnRDjYeamR"
      },
      "execution_count": null,
      "outputs": []
    },
    {
      "cell_type": "code",
      "source": [
        "# This code will remove all stop words from the text and print the following output:\n",
        "\n",
        "# Converting text to lowercase:\n",
        "import re\n",
        "text = \"This Is A Sentence With Mixed Case.\"\n",
        "clean_text = re.sub(r\"[A-Z]\", lambda m: m.group(0).lower(), text)\n",
        "print(clean_text)"
      ],
      "metadata": {
        "id": "rbLr4qA0edxs"
      },
      "execution_count": null,
      "outputs": []
    },
    {
      "cell_type": "code",
      "source": [
        "# This code will convert all uppercase letters in the text to lowercase and print the following output:\n",
        "# this is a sentence with mixed case.\n",
        "# Removing extra whitespace:\n",
        "\n",
        "import re\n",
        "text = \" This is   a sentence  with extra whitespace. \"\n",
        "clean_text = re.sub(r\"\\s+\", \" \", text)\n",
        "print(clean_text)"
      ],
      "metadata": {
        "id": "xW2mDoV0ehEq"
      },
      "execution_count": null,
      "outputs": []
    },
    {
      "cell_type": "code",
      "source": [
        "text = \"My telephone number is 408-555-1234 and mohamed`s phone is 856-987-6632 \"\n",
        "phone = re.search(r'\\d\\d\\d-\\d\\d\\d-\\d\\d\\d\\d',text)\n",
        "phone.group()"
      ],
      "metadata": {
        "id": "ZDIrmbQMekmP"
      },
      "execution_count": null,
      "outputs": []
    },
    {
      "cell_type": "code",
      "source": [
        "re.search(r'\\d{3}-\\d{3}-\\d{4}',text)"
      ],
      "metadata": {
        "id": "uJf3MeC1enGs"
      },
      "execution_count": null,
      "outputs": []
    },
    {
      "cell_type": "code",
      "source": [
        "phone_pattern =(r'(\\d{3})-(\\d{3})-(\\d{4})')\n",
        "results = re.search(phone_pattern,text)\n",
        "results.group()"
      ],
      "metadata": {
        "id": "f9FTmRrxesYN"
      },
      "execution_count": null,
      "outputs": []
    },
    {
      "cell_type": "code",
      "source": [
        "results.group(1), results.group(2) , results.group(3)"
      ],
      "metadata": {
        "id": "eWymSf8uev60"
      },
      "execution_count": null,
      "outputs": []
    },
    {
      "cell_type": "code",
      "source": [
        "results.group(3)"
      ],
      "metadata": {
        "id": "kExhdr_SexV9"
      },
      "execution_count": null,
      "outputs": []
    },
    {
      "cell_type": "code",
      "source": [
        "re.search(r\"man|woman\",\"This man was here.\")"
      ],
      "metadata": {
        "id": "pVL28ojbe19d"
      },
      "execution_count": null,
      "outputs": []
    },
    {
      "cell_type": "code",
      "source": [
        "re.search(r\"man|woman\",\"This woman was here.\")"
      ],
      "metadata": {
        "id": "0yuw3N3He5mH"
      },
      "execution_count": null,
      "outputs": []
    },
    {
      "cell_type": "code",
      "source": [
        "re.findall(r\".at\",\"The cat in the hat sat here.\")"
      ],
      "metadata": {
        "id": "Z7xUWZmHe9TN"
      },
      "execution_count": null,
      "outputs": []
    },
    {
      "cell_type": "code",
      "source": [
        "re.findall(r\".at\",\"The bat went splat\")"
      ],
      "metadata": {
        "id": "vCBf6Lsce_yd"
      },
      "execution_count": null,
      "outputs": []
    },
    {
      "cell_type": "code",
      "source": [
        "re.findall(r\"...at\",\"The bat went splat\")"
      ],
      "metadata": {
        "id": "2z38tGK6fCy9"
      },
      "execution_count": null,
      "outputs": []
    },
    {
      "cell_type": "code",
      "source": [
        "re.findall(r'\\S+at',\"The bat went splat *plat\")"
      ],
      "metadata": {
        "id": "DPGi_4BLfJJS"
      },
      "execution_count": null,
      "outputs": []
    },
    {
      "cell_type": "code",
      "source": [
        "re.findall(r'\\d$','This ends with a number 28')"
      ],
      "metadata": {
        "id": "CmaLMEpxfPoc"
      },
      "execution_count": null,
      "outputs": []
    },
    {
      "cell_type": "code",
      "source": [
        "''.join(re.findall(r'[^\\d]','1 is the loneliest number.'))"
      ],
      "metadata": {
        "id": "cBJpO4ScfQkj"
      },
      "execution_count": null,
      "outputs": []
    },
    {
      "cell_type": "code",
      "source": [
        "re.findall(r'^\\d','1 is the loneliest number.')"
      ],
      "metadata": {
        "id": "-ggrDqwjfhPd"
      },
      "execution_count": null,
      "outputs": []
    },
    {
      "cell_type": "code",
      "source": [
        "phrase = \"there are 3 numbers 34 inside 5 this sentence.\"\n",
        "re.findall(r'[^\\d]+',phrase)"
      ],
      "metadata": {
        "id": "vOK78b3Bfidd"
      },
      "execution_count": null,
      "outputs": []
    },
    {
      "cell_type": "code",
      "source": [
        "test_phrase = 'This is a string! But it has punctuation. How can we remove it?'\n",
        "re.findall('[^!.? ]+',test_phrase)"
      ],
      "metadata": {
        "id": "j_1N8pLHflQE"
      },
      "execution_count": null,
      "outputs": []
    },
    {
      "cell_type": "code",
      "source": [
        "clean = ' '.join(re.findall('[^!.? ]+',test_phrase))\n",
        "print(clean)"
      ],
      "metadata": {
        "id": "7ZvvDg4LfoUJ"
      },
      "execution_count": null,
      "outputs": []
    },
    {
      "cell_type": "code",
      "source": [
        "text = 'Only find the hypen-words in this sentence. But you do not know how long-ish they are'\n",
        "\n",
        "re.findall(r'[\\w]+-[\\w]+',text)"
      ],
      "metadata": {
        "id": "52WNRS0EfrMc"
      },
      "execution_count": null,
      "outputs": []
    },
    {
      "cell_type": "code",
      "source": [
        "text = 'رقم هاتفي هو 586-986-9965   و  رقم هاتف محمد  هو 826-476-9785   و رقم هاتف مشيرة هو 186-006-6855'\n",
        "phone = re.search(r'\\d\\d\\d-\\d\\d\\d-\\d\\d\\d\\d',text)\n",
        "phone.group()"
      ],
      "metadata": {
        "id": "-b8crx_ofu9O"
      },
      "execution_count": null,
      "outputs": []
    },
    {
      "cell_type": "code",
      "source": [
        "re.search(r'\\d{3}-\\d{3}-\\d{4}',text)"
      ],
      "metadata": {
        "id": "OeXhK9Lefyw_"
      },
      "execution_count": null,
      "outputs": []
    },
    {
      "cell_type": "code",
      "source": [
        "phone_pattern =(r'(\\d{3})-(\\d{3})-(\\d{4})')\n",
        "results = re.search(phone_pattern,text)\n",
        "results.group()"
      ],
      "metadata": {
        "id": "PbL80iHNf1lj"
      },
      "execution_count": null,
      "outputs": []
    },
    {
      "cell_type": "code",
      "source": [
        "results.group(1), results.group(2) , results.group(3)"
      ],
      "metadata": {
        "id": "-8Q8IUjlf6Kg"
      },
      "execution_count": null,
      "outputs": []
    },
    {
      "cell_type": "code",
      "source": [
        "text1 = \"ذهب محمد الي الجامعة\"\n",
        "text2 = \"استيقظت مني من النوم\"\n",
        "re.search(r\"محمد|مني\",text1)"
      ],
      "metadata": {
        "id": "hDZDEqjEf7qA"
      },
      "execution_count": null,
      "outputs": []
    },
    {
      "cell_type": "code",
      "source": [
        "re.search(r\"محمد|مني\",text2)"
      ],
      "metadata": {
        "id": "v57BJCd0gDOs"
      },
      "execution_count": null,
      "outputs": []
    },
    {
      "cell_type": "code",
      "source": [
        "text1 = 'ذهبت الطالبات لحضور عدد من المحاضرات في جامعاتهن'\n",
        "re.findall(r\".ات\",text1)"
      ],
      "metadata": {
        "id": "MrhbB8ZjgJ-m"
      },
      "execution_count": null,
      "outputs": []
    },
    {
      "cell_type": "code",
      "source": [
        "text1 = 'ذهبت الطالبات لحضور عدد من المحاضرات في جامعاتهن'\n",
        "re.findall(r\"..ات\",text1)"
      ],
      "metadata": {
        "id": "Y14UfQpsgP0I"
      },
      "execution_count": null,
      "outputs": []
    },
    {
      "cell_type": "code",
      "source": [
        "text1 = 'ذهبت الطالبات لحضور عدد من المحاضرات في جامعاتهن'\n",
        "re.findall(r\"\\S+ات\",text1)"
      ],
      "metadata": {
        "id": "LXchiiY3gRz_"
      },
      "execution_count": null,
      "outputs": []
    },
    {
      "cell_type": "code",
      "source": [
        "phrase = 'قاد جورج مسافة 50 كيلو متر  من الساعة 8 الي الساعة 10'\n",
        "re.findall(r'[^\\d]+',phrase)"
      ],
      "metadata": {
        "id": "cj4wVLZggQBp"
      },
      "execution_count": null,
      "outputs": []
    },
    {
      "cell_type": "code",
      "source": [
        "test_phrase = ' ماذا ؟ ؟  كيف تجرؤ !! , هل تتخيل عاقبة هذا الأمر ؟ ؟  , ويل له . '\n",
        "re.findall('[^؟,!. ]+',test_phrase)"
      ],
      "metadata": {
        "id": "43vaXq7wgYGb"
      },
      "execution_count": null,
      "outputs": []
    },
    {
      "cell_type": "code",
      "source": [
        "clean = ' '.join(re.findall('[^؟,!. ]+',test_phrase))\n",
        "print(clean)"
      ],
      "metadata": {
        "id": "JImvBjiYgcN3"
      },
      "execution_count": null,
      "outputs": []
    },
    {
      "cell_type": "code",
      "source": [
        "text = 'ذهبت الي مدينة نيو-يورك ,  و منها الي سان-فرانسيسكو'\n",
        "\n",
        "re.findall(r'[\\w]+-[\\w]+',text)"
      ],
      "metadata": {
        "id": "1BEXBRfOgq0m"
      },
      "execution_count": null,
      "outputs": []
    },
    {
      "cell_type": "code",
      "source": [],
      "metadata": {
        "id": "okB9pybSgYSI"
      },
      "execution_count": null,
      "outputs": []
    },
    {
      "cell_type": "code",
      "source": [],
      "metadata": {
        "id": "dZ6yChIhduSN"
      },
      "execution_count": null,
      "outputs": []
    },
    {
      "cell_type": "code",
      "execution_count": null,
      "metadata": {
        "id": "y2THEOyPSAtV"
      },
      "outputs": [],
      "source": [
        "T = '''\n",
        "Article\n",
        "Talk\n",
        "Read\n",
        "View source\n",
        "View history\n",
        "\n",
        "Tools\n",
        "This is a good article. Click here for more information.\n",
        "Extended-protected article\n",
        "Listen to this article\n",
        "From Wikipedia, the free encyclopedia\n",
        "\"Hitler\" and \"The Führer\" redirect here. For other uses, see Hitler (disambiguation) and Führer (disambiguation).\n",
        "Adolf Hitler\n",
        "Portrait of Adolf Hitler, 1938\n",
        "Official portrait, 1938\n",
        "Führer of Germany\n",
        "In office\n",
        "2 August 1934 – 30 April 1945\n",
        "Preceded by\tPaul von Hindenburg (as President)\n",
        "Succeeded by\tKarl Dönitz (as President)\n",
        "Chancellor of Germany\n",
        "In office\n",
        "30 January 1933 – 30 April 1945\n",
        "President\tPaul von Hindenburg (1933–1934)\n",
        "Vice Chancellor\tFranz von Papen (1933–1934)\n",
        "Preceded by\tKurt von Schleicher\n",
        "Succeeded by\tJoseph Goebbels\n",
        "Führer of the Nazi Party\n",
        "In office\n",
        "29 July 1921 – 30 April 1945\n",
        "Deputy\tRudolf Hess (1933–1941)\n",
        "Preceded by\tAnton Drexler (Party Chairman)\n",
        "Succeeded by\tMartin Bormann (Party Minister)\n",
        "Personal details\n",
        "Born\t20 April 1889\n",
        "Braunau am Inn, Austria-Hungary (present-day Austria)\n",
        "Died\t30 April 1945 (aged 56)\n",
        "Führerbunker, Berlin, Nazi Germany\n",
        "Cause of death\tSuicide by gunshot\n",
        "Citizenship\n",
        "Austria (until 1925)\n",
        "Stateless (1925–1932)\n",
        "Germany (from 1932)\n",
        "Political party\tNazi Party (from 1920)\n",
        "Other political\n",
        "affiliations\tGerman Workers' Party (1919–1920)\n",
        "Spouse\tEva Braun\n",
        "​\n",
        "​(m. 1945; died 1945)​\n",
        "Parents\n",
        "Alois Hitler\n",
        "Klara Pölzl\n",
        "Relatives\tHitler family\n",
        "Cabinet\tHitler cabinet\n",
        "Signature\tSignature of Adolf Hitler\n",
        "Military service\n",
        "Allegiance\n",
        "German Empire\n",
        "Weimar Republic\n",
        "Branch\n",
        "Imperial German Army\n",
        "Bavarian Army\n",
        "Reichswehr\n",
        "Years of service\t1914–1920\n",
        "Rank\tGefreiter\n",
        "Unit\t16th Bavarian Reserve Regiment\n",
        "Wars\n",
        "World War I\n",
        "Western Front\n",
        "First Battle of Ypres\n",
        "Battle of the Somme  (WIA)\n",
        "Battle of Arras\n",
        "Battle of Passchendaele\n",
        "Awards\n",
        "Iron Cross First Class\n",
        "Iron Cross Second Class\n",
        "Wound Badge\n",
        "Adolf Hitler's voice\n",
        "Duration: 16 minutes and 59 seconds.16:59\n",
        "Hitler's last recorded speech\n",
        "Recorded January 1945\n",
        "Adolf Hitler (German: [ˈaːdɔlf ˈhɪtlɐ] ⓘ; 20 April 1889 – 30 April 1945) was an Austrian-born German politician who was the dictator of Germany from 1933 until his suicide in 1945. He rose to power as the leader of the Nazi Party,[a] becoming the chancellor in 1933 and then taking the title of Führer und Reichskanzler in 1934.[b] During his dictatorship, he initiated World War II in Europe by invading Poland on 1 September 1939. He was closely involved in military operations throughout the war and was central to the perpetration of the Holocaust, the genocide of about six million Jews and millions of other victims.\n",
        "\n",
        "Hitler was born in Braunau am Inn in Austria-Hungary and was raised near Linz. He lived in Vienna later in the first decade of the 1900s before moving to Germany in 1913. He was decorated during his service in the German Army in World War I. In 1919, he joined the German Workers' Party (DAP), the precursor of the Nazi Party, and in 1921 was appointed leader of the Nazi Party. In 1923, he attempted to seize governmental power in a failed coup in Munich and was imprisoned with a sentence of five years. In prison, he dictated the first volume of his autobiography and political manifesto Mein Kampf (\"My Struggle\"). After his early release in 1924, Hitler gained popular support by attacking the Treaty of Versailles and promoting pan-Germanism, anti-Semitism and anti-communism with charismatic oratory and Nazi propaganda. He frequently denounced international capitalism and communism as part of a Jewish conspiracy.\n",
        "\n",
        "By November 1932, the Nazi Party held the most seats in the Reichstag but did not have a majority. No political parties were able to form a majority coalition in support of a candidate for chancellor. Former chancellor Franz von Papen and other conservative leaders convinced President Paul von Hindenburg to appoint Hitler as chancellor on 30 January 1933. Shortly thereafter, the Reichstag passed the Enabling Act of 1933 which began the process of transforming the Weimar Republic into Nazi Germany, a one-party dictatorship based on the totalitarian and autocratic ideology of Nazism. Upon Hindenburg’s death on 2 August 1934, Hitler succeeded him, becoming simultaneously the head of state and government with absolute power. Hitler sought to eliminate Jews from Germany and establish a New Order to counter what he saw as the injustice of the post-World War I international order dominated by France and the British Empire. His first six years in power resulted in rapid economic recovery from the Great Depression, the abrogation of restrictions imposed on Germany after World War I, and the annexation of territories inhabited by millions of ethnic Germans, which initially gave him significant popular support.\n",
        "\n",
        "One of Hitler's key goals was Lebensraum (lit. 'living space') for the German people in Eastern Europe, and his aggressive foreign policy is considered the primary cause of World War II in Europe. He directed large-scale rearmament and, on 1 September 1939, invaded Poland, resulting in Britain and France declaring war on Germany. In June 1941, Hitler ordered an invasion of the Soviet Union. In December 1941, he declared war on the United States. By the end of 1941, German forces and the European Axis powers occupied most of Europe and North Africa. These gains were gradually reversed after 1941, and in 1945 the Allied armies defeated the German army. On 29 April 1945, he married his long-term partner, Eva Braun, in the Führerbunker in Berlin. On the following day, the couple committed suicide to avoid capture by the Soviet Red Army. In accordance with Hitler's wishes, their corpses were burned.\n",
        "\n",
        "The historian and biographer Ian Kershaw describes Hitler as \"the embodiment of modern political evil\".[3] Under Hitler's leadership and racist ideology, the Nazi regime was responsible for the genocide of about six million Jews and millions of other victims, whom he and his followers deemed Untermenschen (subhumans) or socially undesirable. Hitler and the Nazi regime were also responsible for the killing of an estimated 19.3 million civilians and prisoners of war. In addition, 28.7 million soldiers and civilians died as a result of military action in the European theatre. The number of civilians killed during World War II was unprecedented in warfare, and the casualties constitute the deadliest conflict in history.\n",
        "\n",
        "أدولف هتلر\n",
        "(بالألمانية: Adolf Hitler)‏  تعديل قيمة خاصية (P1559) في ويكي بيانات\n",
        "\n",
        "مناصب\n",
        "مستشار الرايخ   تعديل قيمة خاصية (P39) في ويكي بيانات\n",
        "في المنصب\n",
        "30 يناير 1933  – 30 أبريل 1945\n",
        "كورت فون شلايشر يوزف غوبلز\n",
        "رايخسشتاتهالتر   تعديل قيمة خاصية (P39) في ويكي بيانات\n",
        "في المنصب\n",
        "30 يناير 1933  – 30 أبريل 1945\n",
        "في\tبروسيا\n",
        "رئيس ألمانيا (3 )   تعديل قيمة خاصية (P39) في ويكي بيانات\n",
        "في المنصب\n",
        "2 أغسطس 1934  – 30 أبريل 1945\n",
        "باول فون هيندنبورغ كارل دونيتز\n",
        "معلومات شخصية\n",
        "اسم الولادة\t(بالألمانية: Adolf Hitler)‏  تعديل قيمة خاصية (P1477) في ويكي بيانات\n",
        "الميلاد\t20 أبريل 1889  تعديل قيمة خاصية (P569) في ويكي بيانات\n",
        "براوناو أم إن  تعديل قيمة خاصية (P19) في ويكي بيانات\n",
        "الوفاة\t30 أبريل 1945 (56 سنة)   تعديل قيمة خاصية (P570) في ويكي بيانات\n",
        "قبو الفوهرر،  وبرلين  تعديل قيمة خاصية (P20) في ويكي بيانات\n",
        "سبب الوفاة\tانتحار\n",
        "المعمودية\t22 أبريل 1889  تعديل قيمة خاصية (P1636) في ويكي بيانات\n",
        "مكان الاعتقال\tسجن لاندسبيرج (11 نوفمبر 1923–20 ديسمبر 1924)  تعديل قيمة خاصية (P2632) في ويكي بيانات\n",
        "الإقامة\tالبرغهوف\n",
        "قبو الفوهرر\n",
        "وكر الذئب\n",
        "قلعة كرانسبرغ (11 ديسمبر 1944–16 يناير 1945)  تعديل قيمة خاصية (P551) في ويكي بيانات\n",
        "مواطنة\t سيسليثانيا (20 أبريل 1889–11 نوفمبر 1918)\n",
        " الجمهورية الألمانية النمساوية (1918–1919)\n",
        " الجمهورية النمساوية الأولى (1919–30 أبريل 1925)\n",
        " جمهورية فايمار (25 فبراير 1932–30 يناير 1933)\n",
        " ألمانيا النازية (30 يناير 1933–30 أبريل 1945)  تعديل قيمة خاصية (P27) في ويكي بيانات\n",
        "لون الشعر\tشعر بني  تعديل قيمة خاصية (P1884) في ويكي بيانات\n",
        "الطول\t174 سنتيمتر،  و175 سنتيمتر  تعديل قيمة خاصية (P2048) في ويكي بيانات\n",
        "الوزن\t72 كيلوغرام  تعديل قيمة خاصية (P2067) في ويكي بيانات\n",
        "الديانة\t- المسيحية (وفقًا لكتابه \"كفاحي\")\n",
        "- معتقدات هتلر الدينية\n",
        "عضو في\tالحزب النازي  تعديل قيمة خاصية (P463) في ويكي بيانات\n",
        "مشكلة صحية\tمرض باركنسون\n",
        "زهري  تعديل قيمة خاصية (P1050) في ويكي بيانات\n",
        "الزوجة\tإيفا براون (29 أبريل 1945–30 أبريل 1945)  تعديل قيمة خاصية (P26) في ويكي بيانات\n",
        "العشير\tماريا رايتر\n",
        "إيفا براون (–29 أبريل 1945)\n",
        "جيلي روبال  تعديل قيمة خاصية (P451) في ويكي بيانات\n",
        "عدد الأولاد\t0   تعديل قيمة خاصية (P1971) في ويكي بيانات\n",
        "الأب\tألويس هتلر  تعديل قيمة خاصية (P22) في ويكي بيانات\n",
        "الأم\tكلارا هتلر  تعديل قيمة خاصية (P25) في ويكي بيانات\n",
        "إخوة وأخوات\n",
        "إيدا هتلر  ‏،  وباولا هتلر،  وغوستاف هتلر  ‏،  وإدموند هتلر  ‏،  وأوتو هتلر  ‏،  وألويس هتلر الابن،  وأنجيلا هتلر  تعديل قيمة خاصية (P3373) في ويكي بيانات\n",
        "الحياة العملية\n",
        "المهنة\tجندي،  ورسام،  وكاتب سياسي،  وسياسي،  وآمر عسكري،  وكاتب  تعديل قيمة خاصية (P106) في ويكي بيانات\n",
        "الحزب\tحزب العمال الألماني (12 سبتمبر 1919–11 يوليو 1921)\n",
        "الحزب النازي  تعديل قيمة خاصية (P102) في ويكي بيانات\n",
        "اللغة الأم\tالألمانية  تعديل قيمة خاصية (P103) في ويكي بيانات\n",
        "اللغات\tألمانية نمساوية،  والألمانية  تعديل قيمة خاصية (P1412) في ويكي بيانات\n",
        "مجال العمل\tنازية،  والدعاية النازية،  وديكتاتورية عسكرية،  وسياسة  تعديل قيمة خاصية (P101) في ويكي بيانات\n",
        "أعمال بارزة\tكفاحي  تعديل قيمة خاصية (P800) في ويكي بيانات\n",
        "تهم\n",
        "التهم\tخيانة عظمى  تعديل قيمة خاصية (P1399) في ويكي بيانات\n",
        "الخدمة العسكرية\n",
        "الولاء\tالإمبراطورية الألمانية  تعديل قيمة خاصية (P945) في ويكي بيانات\n",
        "الفرع\tالجيش الإمبراطوري الألماني،  وفيرماخت،  والجيش البافاري،  ومشاة  تعديل قيمة خاصية (P241) في ويكي بيانات\n",
        "الرتبة\tجيفرايتر (1914–)\n",
        "جيفرايتر (1914–)  تعديل قيمة خاصية (P410) في ويكي بيانات\n",
        "القيادات\tفيرماخت  تعديل قيمة خاصية (P598) في ويكي بيانات\n",
        "المعارك والحروب\tالحرب العالمية الأولى،  والحرب العالمية الثانية،  ومعركة يبريس الأولى،  ومعركة السوم،  ومعركة أراس،  ومعركة باشنديل،  وهجوم الربيع،  ومعركة المَرْن الأولى،  وغزو بولندا  تعديل قيمة خاصية (P607) في ويكي بيانات\n",
        "الجوائز\n",
        "شخصية العام  (1938)\n",
        "المواطنة الفخرية\n",
        "المواطنة الفخرية\n",
        " الصليب الحديدي من الرتبة الأولى  ‏  (1918)\n",
        "شارة الجرح (1918)\n",
        " الصليب الحديدي من الرتبة الثانية  ‏  (1914)\n",
        " وسام الاستحقاق العسكري البافاري\n",
        " صليب الشرف في الحرب العالمية الأولي 1914/1918\n",
        " شارة الحزب الذهبية\n",
        " وسام الدم   تعديل قيمة خاصية (P166) في ويكي بيانات\n",
        "التوقيع\n",
        "\n",
        "المواقع\n",
        "IMDB\tصفحته على IMDB  تعديل قيمة خاصية (P345) في ويكي بيانات\n",
        "تعديل مصدري - تعديل طالع توثيق القالب\n",
        "أدولف هتلر (بالألمانية: Adolf Hitler) (20 أبريل 1889 - 30 أبريل 1945) هو زعيم ألمانيا النازية، ولد في الإمبراطورية النمساوية المجرية، وكان زعيم حزب العمال الألماني الاشتراكي الوطني والمعروف باسم الحزب النازي. حكم ألمانيا النازية في الفترة ما بين عامي 1933 و1945 حيث شغل منصب مستشار الدولة (بالألمانية: Reichskanzler) في الفترة ما بين عامي 1933 و1945، والفوهرر (بالألمانية: Führer) في الفترة ما بين عامي 1934 و1945. واختارته مجلة تايم واحدًا من بين مائة شخصية تركت أكبر أثر في تاريخ البشرية في القرن العشرين.\n",
        "\n",
        "وباعتباره واحدًا من المحاربين القدامى الذين تقلدوا الأوسمة تقديرًا لجهودهم في الحرب العالمية الأولى بِجانب ألمانيا، انضم هتلر إلى الحزب النازي في عام 1920 وأصبح زعيمًا له في عام 1921. وبعد سجنه إثر محاولة انقلاب فاشلة قام بها في عام 1923، استطاع هتلر أن يحصل على تأييد الجماهير بتشجيعه لأفكار تأييد القومية ومعاداة الشيوعية والكاريزما (أو الجاذبية) التي يتمتع بها في إلقاء الخطب وفي الدعاية.\n",
        "\n",
        "في عام 1933، عُيِّنَ مستشارًا للبلاد حيث عمل على إرساء دعائم نظام تحكمه نزعة شمولية وديكت\n",
        "\n",
        "\n",
        "\n",
        "\n",
        "\n",
        "সূচনা\n",
        "কৈশোর ও যৌবনকাল\n",
        "কৈশোর ও যৌবনকাল উপঅনুচ্ছেদ টগল করুন\n",
        "গ্রন্থ\n",
        "প্রথম বিশ্বযুদ্ধে যোগদান\n",
        "রাজনীতিতে প্রবেশ\n",
        "আডলফ হিটলারের যৌনজীবন\n",
        "বিয়ে\n",
        "হস্তক্ষেপ\n",
        "আরও দেখুন\n",
        "তথ্যসূত্র\n",
        "আডলফ হিটলার\n",
        "\n",
        "নিবন্ধ\n",
        "আলোচনা\n",
        "পড়ুন\n",
        "সম্পাদনা\n",
        "ইতিহাস দেখুন\n",
        "\n",
        "সরঞ্জাম\n",
        "উইকিপিডিয়া, মুক্ত বিশ্বকোষ থেকে\n",
        "আডলফ হিটলার\n",
        "\n",
        "ফিউরার\n",
        "ভাইমার প্রজাতন্ত্রের তৃতীয় রাষ্ট্রপতি\n",
        "কাজের মেয়াদ\n",
        "২রা আগস্ট, ১৯৩৪ – ৩০শে এপ্রিল, ১৯৪৫\n",
        "পূর্বসূরী\tপল ভন হিন্ডেনবার্গ\n",
        "(রাষ্ট্রপতি হিসেবে)\n",
        "উত্তরসূরী\tকার্ল ডোনিট্জ\n",
        "(রাষ্ট্রপতি হিসেবে)\n",
        "জার্মানির চ্যান্সেলর\n",
        "রাইখ্‌সকান্‌ৎলার\n",
        "কাজের মেয়াদ\n",
        "৩০শে জানুয়ারি, ১৯৩৩ – ৩০শে এপ্রিল, ১৯৪৫\n",
        "পূর্বসূরী\tপল ভন স্কেলিচার\n",
        "উত্তরসূরী\tজোসেফ গোয়েবলস\n",
        "ব্যক্তিগত বিবরণ\n",
        "জন্ম\t২০শে এপ্রিল, ১৮৮৯\n",
        "Braunau am Inn, অস্ট্রিয়া-হাঙ্গেরি\n",
        "মৃত্যু\t৩০ এপ্রিল ১৯৪৫ (বয়স ৫৬)\n",
        "বার্লিন, জার্মানি\n",
        "মৃত্যুর কারণ\tআত্মহত্যা\n",
        "নাগরিকত্ব\tঅস্ট্রীয় (১৮৮৯-১৯৩২)\n",
        "জার্মান (১৯৩২-১৯৪৫)\n",
        "জাতীয়তা\t১৯২৫ সাল পর্যন্ত অস্ট্রীয়; ১৯৩২-এর পর জার্মান\n",
        "রাজনৈতিক দল\tন্যাশনাল সোশ্যালিস্ট জার্মান ওয়ার্কার্স পার্টি (এনএসডিএপি)\n",
        "দাম্পত্য সঙ্গী\tইভা ব্রাউন\n",
        "(১৯৪৫ সালের ২৯শে এপ্রিল বিয়ে করেন)\n",
        "পেশা\tলেখক, রাজনীতিবিদ, রাষ্ট্রপ্রধান, চিত্রশিল্পী\n",
        "স্বাক্ষর\n",
        "আডলফ হিটলার ( [ˈadɔlf ˈhɪtlɐ] জার্মান ভাষায়: Adolf Hitler আডল্‌ফ্‌ হিট্‌লা) (২০শে এপ্রিল, ১৮৮৯ - ৩০শে এপ্রিল, ১৯৪৫) অস্ট্রীয় বংশোদ্ভূত জার্মান রাজনীতিবিদ যিনি ন্যাশনাল সোশ্যালিস্ট জার্মান ওয়ার্কার্স পার্টির নেতৃত্ব দিয়েছিলেন। হিটলার ১৯৩৩ থেকে ১৯৪৫ সাল পর্যন্ত জার্মানির চ্যান্সেলর এবং ১৯৩৪ থেকে ১৯৪৫ সাল পর্যন্ত সে দেশের ফিউরার ছিলেন।\n",
        "\n",
        "হিটলার প্রথম বিশ্বযুদ্ধে সৈনিক হিসেবে যোগ দিয়েছিলেন। পরবর্তীকালে ভাইমার প্রজাতন্ত্রে নাৎসি পার্টির নেতৃত্ব লাভ করেন। অভ্যুত্থান করতে গিয়ে ব্যর্থ হয়েছিলেন যে কারণে তাকে জেল খাটতে হয়েছিল। জেল থেকে ছাড়া পেয়ে মোহনীয় বক্তৃতার মাধ্যমে জাতীয়তাবাদ, ইহুদি বিদ্বেষ ও সমাজতন্ত্র বিরোধিতা ছড়াতে থাকেন। এভাবেই এক সময় জনপ্রিয় নেতায় পরিণত হন। নাৎসিরা তাদের বিরোধী পক্ষের অনেককেই হত্যা করেছিল, রাষ্ট্রের অর্থনীতিকে ঢেলে সাজিয়েছিল, সামরিক বাহিনীকে নতুন নতুন সব অস্ত্রশস্ত্রে সজ্জিত করেছিল এবং সর্বোপরি একটি সমগ্রতাবাদী ও ফ্যাসিবাদী একনায়ক\n",
        "\n",
        "\n",
        "político, militar y dictador alemán de origen austríaco.2​ Canciller imperial desde 1933 y Führer —caudillo— de Alemania desde 1934 hasta su muerte en 1945, llevó al poder al Partido Nacionalsocialista Obrero Alemán o Partido Nazi,b​ y estableció un régimen totalitario durante el período conocido como Tercer Reich o Alemania nazi.3​ Inició la Segunda Guerra Mundial al invadir Polonia el 1 de septiembre de 1939 y fue una figura clave en la perpetración del Holocausto, el genocidio de aproximadamente 11 millones de personas, entre los que se encontraban judíos, discapacitados, homosexuales, testigos de Jehová, socialistas, comunistas y gitanos.4​5​\n",
        "\n",
        "Hitler fue el escritor de al menos dos libros; Mein Kampf y Zweites Buch, el primero es en parte su autobiografía y programa de gobierno, donde muestra sus bases ideológicas por las cual llegó a ser quien fue, y el segundo profundiza más respecto a sus ideas planteadas en el primer libro. Ambos libros son considerados de filosofía política, aunque comúnmente no se le da el título de filósofo a Hitler porque sus bases filosóficas fueron desarrolladas por otros filósofos y también porque se vio influenciado por la ariosofía.6​7​\n",
        "\n",
        "Hitler se afilió en 1919 al Partido Obrero Alemán, predecesor del NSDAP, asumiendo su liderazgo definitivo en 1921. En 1923, tras el pronunciamiento en la cervecería Bürgerbräukeller de Múnich, Hitler intentó tomar el poder mediante un golpe de Estado fallido, por el que fue condenado a cinco años de prisión.8​ Durante su estancia en la cárcel, redactó la primera parte de su libro Mi lucha (en alemán, Mein Kampf), en el que expone su ideología junto con elementos autobiográficos. Liberado ocho meses después, en 1924, Hitler obtuvo creciente apoyo popular mediante la exaltación del pangermanismo o nacionalismo alemán, el antisemitismo y el anticomunismo, sirviéndose de su talento oratorio apoyado\n",
        "\n",
        "'''\n",
        "\n",
        "\n",
        "T"
      ]
    },
    {
      "cell_type": "code",
      "source": [
        "len(T)"
      ],
      "metadata": {
        "id": "6T9fBKk1SXj6"
      },
      "execution_count": null,
      "outputs": []
    },
    {
      "cell_type": "code",
      "source": [
        "len(T.split())"
      ],
      "metadata": {
        "id": "cDdjf_gWSaTe"
      },
      "execution_count": null,
      "outputs": []
    },
    {
      "cell_type": "code",
      "source": [
        "print(set(T)) # لحذف التكرار"
      ],
      "metadata": {
        "id": "D69WGnC1Sxpq"
      },
      "execution_count": null,
      "outputs": []
    },
    {
      "cell_type": "code",
      "source": [
        "#لمعرفة الحرف اتكرر كام مره\n",
        "import pandas as pd\n",
        "pd.Series([i for i in T ]).value_counts()"
      ],
      "metadata": {
        "id": "k27ku0wlSzq6"
      },
      "execution_count": null,
      "outputs": []
    },
    {
      "cell_type": "code",
      "source": [
        "CleanedT = ''.join([ i for i in T if i.lower() in '1234567890wertyuiopasdfghjklzxcvbnm '])"
      ],
      "metadata": {
        "id": "VMAp1hCATVgU"
      },
      "execution_count": null,
      "outputs": []
    },
    {
      "cell_type": "code",
      "source": [
        "set(CleanedT)"
      ],
      "metadata": {
        "id": "gpEhxdedUtTJ"
      },
      "execution_count": null,
      "outputs": []
    },
    {
      "cell_type": "code",
      "source": [
        "CleanedT = ''.join([ i for i in T if i.lower() in 'ضصثقفغعهخحشسيبلاتنمكط\\دئءؤرلاىةوزظذ '])"
      ],
      "metadata": {
        "id": "K7rTMLPEUyvH"
      },
      "execution_count": null,
      "outputs": []
    },
    {
      "cell_type": "code",
      "source": [
        "CleanedT"
      ],
      "metadata": {
        "id": "zPfmESGxU3Q2"
      },
      "execution_count": null,
      "outputs": []
    },
    {
      "cell_type": "code",
      "source": [
        "set(CleanedT)"
      ],
      "metadata": {
        "id": "Vl7ntcy0Uzlq"
      },
      "execution_count": null,
      "outputs": []
    },
    {
      "cell_type": "code",
      "source": [],
      "metadata": {
        "id": "WC3lyZ_ZU8Mz"
      },
      "execution_count": null,
      "outputs": []
    }
  ]
}