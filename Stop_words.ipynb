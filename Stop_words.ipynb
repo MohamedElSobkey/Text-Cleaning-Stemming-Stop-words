{
  "nbformat": 4,
  "nbformat_minor": 0,
  "metadata": {
    "colab": {
      "private_outputs": true,
      "provenance": [],
      "authorship_tag": "ABX9TyMXIzqcOMmetuprZnTZR9Ht",
      "include_colab_link": true
    },
    "kernelspec": {
      "name": "python3",
      "display_name": "Python 3"
    },
    "language_info": {
      "name": "python"
    }
  },
  "cells": [
    {
      "cell_type": "markdown",
      "metadata": {
        "id": "view-in-github",
        "colab_type": "text"
      },
      "source": [
        "<a href=\"https://colab.research.google.com/github/MohamedElSobkey/Text-Cleaning-Stemming-Stop-words/blob/main/Stop_words.ipynb\" target=\"_parent\"><img src=\"https://colab.research.google.com/assets/colab-badge.svg\" alt=\"Open In Colab\"/></a>"
      ]
    },
    {
      "cell_type": "code",
      "execution_count": null,
      "metadata": {
        "id": "88eLChmI_0v_"
      },
      "outputs": [],
      "source": [
        "# This code will remove all punctuation from the text and print the following output:\n",
        "import nltk\n",
        "nltk.download('stopwords')\n",
        "import re\n",
        "from nltk.corpus import stopwords\n",
        "\n",
        "stop_words = set(stopwords.words('english'))\n",
        "\n",
        "text = \"This is a sentence with stop words.\"\n",
        "words = text.split()\n",
        "clean_words = [word for word in words if word not in stop_words]\n",
        "clean_text = \" \".join(clean_words)\n",
        "print(clean_text)"
      ]
    },
    {
      "cell_type": "code",
      "source": [
        "stop_words\n"
      ],
      "metadata": {
        "id": "loZ0NCyAOiGn"
      },
      "execution_count": null,
      "outputs": []
    },
    {
      "cell_type": "code",
      "source": [
        "import nltk\n",
        "nltk.download('punkt')"
      ],
      "metadata": {
        "id": "X5zQ1T-SOnUc"
      },
      "execution_count": null,
      "outputs": []
    },
    {
      "cell_type": "code",
      "source": [
        "import spacy\n",
        "nlp = spacy.load('en_core_web_sm')"
      ],
      "metadata": {
        "id": "gP6sOMgKOs-C"
      },
      "execution_count": null,
      "outputs": []
    },
    {
      "cell_type": "code",
      "source": [
        "print(nlp.Defaults.stop_words)"
      ],
      "metadata": {
        "id": "oREVGb9kOux7"
      },
      "execution_count": null,
      "outputs": []
    },
    {
      "cell_type": "code",
      "source": [
        "nlp.vocab['myself'].is_stop"
      ],
      "metadata": {
        "id": "Mp58OxXfOysq"
      },
      "execution_count": null,
      "outputs": []
    },
    {
      "cell_type": "code",
      "source": [
        "nlp.vocab['mystery'].is_stop"
      ],
      "metadata": {
        "id": "mXcFTAcdO0wJ"
      },
      "execution_count": null,
      "outputs": []
    },
    {
      "cell_type": "code",
      "source": [
        "nlp.vocab['btw'].is_stop"
      ],
      "metadata": {
        "id": "XoDS_T-0O4bs"
      },
      "execution_count": null,
      "outputs": []
    },
    {
      "cell_type": "code",
      "source": [
        "nlp.Defaults.stop_words.add('btw')\n",
        "nlp.vocab['btw'].is_stop = True"
      ],
      "metadata": {
        "id": "kY07N_jNO7CL"
      },
      "execution_count": null,
      "outputs": []
    },
    {
      "cell_type": "code",
      "source": [
        "nlp.vocab['btw'].is_stop"
      ],
      "metadata": {
        "id": "Br5Zd8kBO9rq"
      },
      "execution_count": null,
      "outputs": []
    },
    {
      "cell_type": "code",
      "source": [
        "nlp.vocab['beyond'].is_stop"
      ],
      "metadata": {
        "id": "_rkdFrYpPCKu"
      },
      "execution_count": null,
      "outputs": []
    },
    {
      "cell_type": "code",
      "source": [
        "nlp.Defaults.stop_words.remove('beyond')\n",
        "nlp.vocab['beyond'].is_stop = False"
      ],
      "metadata": {
        "id": "wlGGj41gPC6r"
      },
      "execution_count": null,
      "outputs": []
    },
    {
      "cell_type": "code",
      "source": [
        "nlp.vocab['beyond'].is_stop"
      ],
      "metadata": {
        "id": "01F3-NLEPFwE"
      },
      "execution_count": null,
      "outputs": []
    },
    {
      "cell_type": "code",
      "source": [
        "import nltk\n",
        "nltk.download('stopwords')"
      ],
      "metadata": {
        "id": "txLAERekPIoY"
      },
      "execution_count": null,
      "outputs": []
    },
    {
      "cell_type": "code",
      "source": [
        "from nltk.corpus import stopwords\n",
        "from nltk.tokenize import word_tokenize\n",
        "\n",
        "stop_words = set(stopwords.words('english'))\n",
        "print(len(stop_words))\n",
        "stop_words"
      ],
      "metadata": {
        "id": "ul59OYn8P9re"
      },
      "execution_count": null,
      "outputs": []
    },
    {
      "cell_type": "code",
      "source": [
        "example_sent = \"This is a sample sentence, And This showing off the stop words filtration.\"\n",
        "stop_words = set(stopwords.words('english'))\n",
        "\n",
        "word_tokens = word_tokenize(example_sent)\n",
        "word_tokens"
      ],
      "metadata": {
        "id": "Cpmmap_GQC4v"
      },
      "execution_count": null,
      "outputs": []
    },
    {
      "cell_type": "code",
      "source": [
        "filtered_sentence = [w for w in word_tokens if not w in stop_words]\n",
        "\n",
        "print(word_tokens)\n",
        "print('---------------------------------')\n",
        "print(filtered_sentence)"
      ],
      "metadata": {
        "id": "G5fQjsB0QLnw"
      },
      "execution_count": null,
      "outputs": []
    },
    {
      "cell_type": "code",
      "source": [
        "filtered_sentence = [w for w in word_tokens if not w.lower() in stop_words]\n",
        "\n",
        "print(word_tokens)\n",
        "print('---------------------------------')\n",
        "print(filtered_sentence)"
      ],
      "metadata": {
        "id": "p2A_2fhgQR3E"
      },
      "execution_count": null,
      "outputs": []
    },
    {
      "cell_type": "code",
      "source": [
        "Ar_SW1 = set(nltk.corpus.stopwords.words(\"arabic\"))\n",
        "print(len(Ar_SW1))\n",
        "' | '.join(Ar_SW1)"
      ],
      "metadata": {
        "id": "qvm_JYBrQZfr"
      },
      "execution_count": null,
      "outputs": []
    },
    {
      "cell_type": "code",
      "source": [
        "from nltk.corpus import stopwords\n",
        "Ar_SW2 = stopwords.words('arabic')\n",
        "print(len(Ar_SW2))\n",
        "' | '.join(Ar_SW2)"
      ],
      "metadata": {
        "id": "LnQAlMg9QfSf"
      },
      "execution_count": null,
      "outputs": []
    },
    {
      "cell_type": "code",
      "source": [
        "!pip install Arabic-Stopwords"
      ],
      "metadata": {
        "id": "sjGazNM0Qon1"
      },
      "execution_count": null,
      "outputs": []
    },
    {
      "cell_type": "code",
      "source": [
        "import arabicstopwords.arabicstopwords as stp"
      ],
      "metadata": {
        "id": "BRjina2dRJp2"
      },
      "execution_count": null,
      "outputs": []
    },
    {
      "cell_type": "code",
      "source": [
        "len(stp.classed_stopwords_list())"
      ],
      "metadata": {
        "id": "qkYDSNj9RRPc"
      },
      "execution_count": null,
      "outputs": []
    },
    {
      "cell_type": "code",
      "source": [
        "stp.classed_stopwords_list()"
      ],
      "metadata": {
        "id": "FFHPL_fzRaic"
      },
      "execution_count": null,
      "outputs": []
    },
    {
      "cell_type": "code",
      "source": [
        "len(stp.stopwords_list())"
      ],
      "metadata": {
        "id": "6p3W4cwiRd42"
      },
      "execution_count": null,
      "outputs": []
    },
    {
      "cell_type": "code",
      "source": [
        "stp.stopwords_list()"
      ],
      "metadata": {
        "id": "Y3W-fdarRiFD"
      },
      "execution_count": null,
      "outputs": []
    },
    {
      "cell_type": "code",
      "source": [
        "stp.is_stop(u'ممكن')"
      ],
      "metadata": {
        "id": "VKHe-XamRl30"
      },
      "execution_count": null,
      "outputs": []
    },
    {
      "cell_type": "code",
      "source": [
        "stp.is_stop(u'منكم')"
      ],
      "metadata": {
        "id": "LAytEBpPRnqH"
      },
      "execution_count": null,
      "outputs": []
    },
    {
      "cell_type": "code",
      "source": [
        "stp.stopword_forms(u\"على\")"
      ],
      "metadata": {
        "id": "p8vDiIN-Rqpl"
      },
      "execution_count": null,
      "outputs": []
    },
    {
      "cell_type": "code",
      "source": [
        "len(stp.stopword_forms(u\"على\"))"
      ],
      "metadata": {
        "id": "oFWEBHzCRthf"
      },
      "execution_count": null,
      "outputs": []
    },
    {
      "cell_type": "code",
      "source": [
        "SW  = ['on','at','with','the','by','to','this','my']\n",
        "\n",
        "T = 'I went to the university by bus On this monday with My friend at 9:00'\n",
        "\n",
        "' '.join([i for i in T.split() if  not i.lower() in SW])"
      ],
      "metadata": {
        "id": "_qOJPn3gR1t8"
      },
      "execution_count": null,
      "outputs": []
    }
  ]
}